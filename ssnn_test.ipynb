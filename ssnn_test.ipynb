{
 "cells": [
  {
   "cell_type": "code",
   "execution_count": 267,
   "metadata": {},
   "outputs": [],
   "source": [
    "import torch\n",
    "import matplotlib.pyplot as plt\n",
    "from ssnn import SSNN"
   ]
  },
  {
   "cell_type": "code",
   "execution_count": 268,
   "metadata": {},
   "outputs": [],
   "source": [
    "# Create dataset\n",
    "x_train = torch.arange(0, 100, 0.5)\n",
    "x_train = x_train.unfold(0, 20, 1)\n",
    "x_train = x_train.unsqueeze(-1)\n",
    "\n",
    "y_train = x_train[:,-1,:]\n",
    "x_train = x_train[:,0:-1,:]\n",
    "\n",
    "x_train = 1*torch.sin(x_train)\n",
    "y_train = 1*torch.sin(y_train)"
   ]
  },
  {
   "cell_type": "code",
   "execution_count": 269,
   "metadata": {},
   "outputs": [],
   "source": [
    "model = SSNN(1, 2, 1)\n",
    "\n",
    "criterion = torch.nn.MSELoss()\n",
    "optimizer = torch.optim.SGD(model.parameters(), lr=0.001, momentum=0.9)"
   ]
  },
  {
   "cell_type": "code",
   "execution_count": 270,
   "metadata": {},
   "outputs": [],
   "source": [
    "# training loop\n",
    "t_loss = []\n",
    "\n",
    "for epoch in range(200):  # loop over the dataset multiple times\n",
    "    optimizer.zero_grad()\n",
    "\n",
    "    outputs = model(x_train)\n",
    "    outputs = outputs[:, -1, :]\n",
    "\n",
    "    loss = criterion(outputs, x_train[:, -1, :])\n",
    "\n",
    "    t_loss.append(loss.item())\n",
    "\n",
    "    loss.backward()\n",
    "    optimizer.step()"
   ]
  },
  {
   "cell_type": "code",
   "execution_count": 271,
   "metadata": {},
   "outputs": [
    {
     "data": {
      "text/plain": [
       "[<matplotlib.lines.Line2D at 0x7f1c24ac7be0>]"
      ]
     },
     "execution_count": 271,
     "metadata": {},
     "output_type": "execute_result"
    },
    {
     "data": {
      "image/png": "[encoded data removed]",
      "text/plain": [
       "<Figure size 640x480 with 1 Axes>"
      ]
     },
     "metadata": {},
     "output_type": "display_data"
    }
   ],
   "source": [
    "plt.plot(t_loss)"
   ]
  },
  {
   "cell_type": "code",
   "execution_count": 272,
   "metadata": {},
   "outputs": [
    {
     "name": "stdout",
     "output_type": "stream",
     "text": [
      "Observability matrix O:\n",
      " tensor([[-0.1439,  0.0972, -0.2051],\n",
      "        [-0.0266, -0.0343,  0.0491],\n",
      "        [-0.0003, -0.0008, -0.0068]])\n",
      "Determinant of O tensor(-6.0408e-05)\n"
     ]
    }
   ],
   "source": [
    "def observability(A:torch.Tensor, C:torch.Tensor):\n",
    "    with torch.no_grad():\n",
    "        O = torch.zeros(A.shape[0], C.shape[1])\n",
    "        for row in range(len(O)):\n",
    "            O[row] = torch.matmul(C, torch.linalg.matrix_power(A, row))\n",
    "    return O\n",
    "\n",
    "O = observability(model.A, model.C)\n",
    "print(f\"Observability matrix O:\\n\", O)\n",
    "\n",
    "print(f\"Determinant of O\", torch.linalg.det(O))"
   ]
  }
 ],
 "metadata": {
  "kernelspec": {
   "display_name": "Python 3.8.10 ('env': venv)",
   "language": "python",
   "name": "python3"
  },
  "language_info": {
   "codemirror_mode": {
    "name": "ipython",
    "version": 3
   },
   "file_extension": ".py",
   "mimetype": "text/x-python",
   "name": "python",
   "nbconvert_exporter": "python",
   "pygments_lexer": "ipython3",
   "version": "3.8.10"
  },
  "orig_nbformat": 4,
  "vscode": {
   "interpreter": {
    "hash": "bca7a28bfef8824f5322aebd4f09a2f98be2290bfc2bdc4be26be4eea349412f"
   }
  }
 },
 "nbformat": 4,
 "nbformat_minor": 2
}
