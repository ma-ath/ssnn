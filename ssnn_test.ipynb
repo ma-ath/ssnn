{
 "cells": [
  {
   "cell_type": "code",
   "execution_count": null,
   "metadata": {},
   "outputs": [],
   "source": [
    "import torch\n",
    "import matplotlib.pyplot as plt"
   ]
  }
 ],
 "metadata": {
  "kernelspec": {
   "display_name": "Python 3.10.4 ('env': venv)",
   "language": "python",
   "name": "python3"
  },
  "language_info": {
   "name": "python",
   "version": "3.10.4"
  },
  "orig_nbformat": 4,
  "vscode": {
   "interpreter": {
    "hash": "740a2a342df2f5ff59f14d9d60b3ec4df3b4dc667894e83b414b92d9c91b9b59"
   }
  }
 },
 "nbformat": 4,
 "nbformat_minor": 2
}
