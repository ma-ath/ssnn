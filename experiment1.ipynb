{
 "cells": [
  {
   "cell_type": "markdown",
   "metadata": {},
   "source": [
    "# Experiment 1 - Network Convergence"
   ]
  },
  {
   "cell_type": "markdown",
   "metadata": {},
   "source": [
    "### Summary\n",
    "\n",
    "In this experiment, the objective is to understand if the backpropagation throught time algorithm converges in this network using different input signals"
   ]
  },
  {
   "cell_type": "code",
   "execution_count": 1,
   "metadata": {},
   "outputs": [
    {
     "name": "stdout",
     "output_type": "stream",
     "text": [
      "NVIDIA GeForce RTX 3080\n",
      "Memory Usage:\n",
      "Allocated: 0.0 MB\n",
      "Cached:    0.0 MB\n"
     ]
    }
   ],
   "source": [
    "# imports\n",
    "import torch\n",
    "import matplotlib.pyplot as plt\n",
    "from matplotlib.animation import FuncAnimation\n",
    "import numpy as np\n",
    "from ssnn import SSNN\n",
    "import os\n",
    "from tqdm.notebook import tqdm\n",
    "\n",
    "device = torch.device(\"cuda\" if torch.cuda.is_available() else \"cpu\")\n",
    "\n",
    "if device.type == 'cuda':\n",
    "    print(torch.cuda.get_device_name(0))\n",
    "    print('Memory Usage:')\n",
    "    print('Allocated:', round(torch.cuda.memory_allocated(0)/1024**2,1), 'MB')\n",
    "    print('Cached:   ', round(torch.cuda.memory_reserved(0)/1024**2,1), 'MB')\n"
   ]
  },
  {
   "cell_type": "code",
   "execution_count": 2,
   "metadata": {},
   "outputs": [
    {
     "name": "stdout",
     "output_type": "stream",
     "text": [
      "env: CUBLAS_WORKSPACE_CONFIG=:4096:8\n"
     ]
    }
   ],
   "source": [
    "# for reproductibility\n",
    "import random\n",
    "random.seed(0)\n",
    "np.random.seed(0)\n",
    "torch.manual_seed(0)\n",
    "torch.cuda.manual_seed(0)\n",
    "torch.backends.cudnn.deterministic=True\n",
    "torch.use_deterministic_algorithms(True)\n",
    "\n",
    "%env CUBLAS_WORKSPACE_CONFIG=:4096:8"
   ]
  },
  {
   "cell_type": "code",
   "execution_count": 8,
   "metadata": {},
   "outputs": [],
   "source": [
    "# support functions\n",
    "\n",
    "def observability(A:torch.Tensor, C:torch.Tensor):\n",
    "    \"\"\"\n",
    "    Returns observability matrix\n",
    "    \"\"\"\n",
    "    with torch.no_grad():\n",
    "        O = torch.zeros(A.shape[0], C.shape[1])\n",
    "        for row in range(len(O)):\n",
    "            O[row] = torch.matmul(C, torch.linalg.matrix_power(A, row))\n",
    "    return O\n",
    "\n",
    "def clamp(n, minn, maxn):\n",
    "    \"\"\"\n",
    "    Clamps number between 2\n",
    "    \"\"\"\n",
    "    return max(min(maxn, n), minn)\n",
    "\n",
    "def save_gif(title:str, dir:str, **kwargs):\n",
    "    \"\"\"\n",
    "    create a gif vizualization of this training process\n",
    "    \"\"\"\n",
    "    \n",
    "    plot_size = kwargs[\"plot_size\"]\n",
    "    signal_amplitude = kwargs[\"signal_amplitude\"]\n",
    "    n_epochs = kwargs[\"n_epochs\"]\n",
    "    t_loss = kwargs[\"t_loss\"]\n",
    "    t_plot = kwargs[\"t_plot\"]\n",
    "    t_observability = kwargs[\"t_observability\"]\n",
    "\n",
    "    fig, (ax1, ax2) = plt.subplots(2,1)\n",
    "\n",
    "    ax1.set_title(\"Output over time\")\n",
    "    ax2.set_title(\"Loss over epoch\")\n",
    "\n",
    "    line1, = ax1.plot([])\n",
    "    line2, = ax2.plot([])\n",
    "\n",
    "    ax1.set_xlim(0, plot_size)\n",
    "    ax1.set_ylim(-signal_amplitude-5, signal_amplitude+5)\n",
    "\n",
    "    ax2.set_xlim(0, n_epochs)\n",
    "    ax2.set_ylim(t_loss[0]-0.5, t_loss[0]+0.5)\n",
    "\n",
    "    ax1.set_xticks([])\n",
    "\n",
    "    t_text1 = ax1.text(.5, -signal_amplitude-5+0.5, '', fontsize=10)\n",
    "    t_text2 = ax2.annotate(\"\", xy = (10, -30), size=10, color='k', xycoords='axes points')\n",
    "    t_text3 = ax2.annotate(\"\", xy = (80, -30), size=10, color='k', xycoords='axes points')\n",
    "\n",
    "    def animate(frame_n):\n",
    "        x1 = np.arange(0, plot_size, 1)\n",
    "        y1 = t_plot[frame_n].cpu().detach().numpy()\n",
    "\n",
    "        x2 = np.arange(0, frame_n, 1)\n",
    "        y2 = np.array(t_loss)[0:frame_n]\n",
    "\n",
    "        line1.set_data((x1, y1))\n",
    "        line1.set_color('b')\n",
    "        line2.set_data((x2, y2))\n",
    "        line2.set_color('k')\n",
    "\n",
    "        t_text1.set_text(f\"epoch:{frame_n}\")\n",
    "        t_text2.set_text(f\"loss:{t_loss[frame_n]:.2f}\")\n",
    "        t_text3.set_text(f\"det(O):{t_observability[frame_n]:.2e}\")\n",
    "        \n",
    "        t_text3.set_text(f\"det(O):{t_observability[frame_n]:.2e}\")\n",
    "\n",
    "        if frame_n != 0:\n",
    "            ax2.set_ylim(   clamp(min(np.array(t_loss)[:frame_n]), 0, 1000)-0.5,\n",
    "                            clamp(max(np.array(t_loss)[:frame_n]), 0, 1000)+0.5)\n",
    "\n",
    "        return line1, line2\n",
    "\n",
    "    anim = FuncAnimation(fig, animate, frames=n_epochs, interval=1)\n",
    "    anim.save(os.path.join(os.getcwd(), dir, title), writer = 'pillow')\n",
    "    plt.close()"
   ]
  },
  {
   "cell_type": "markdown",
   "metadata": {},
   "source": [
    "## Experiment with pure sine"
   ]
  },
  {
   "cell_type": "code",
   "execution_count": 9,
   "metadata": {},
   "outputs": [],
   "source": [
    "# Generate signal, windows it, generate input and output data.\n",
    "from unittest import signals\n",
    "\n",
    "train_signal_len = 200\n",
    "step = 0.5\n",
    "window_len = 20\n",
    "signal_amplitude = 5\n",
    "eval_signal_len = 10\n",
    "plot_size = 100\n",
    "\n",
    "def generate_data(signal_len:int, step:float, window_len:int, **kwargs):\n",
    "    A = kwargs['amplitude']\n",
    "    eval_len = kwargs['eval_len']\n",
    "\n",
    "    # generate a sine dataset\n",
    "    x_train = torch.arange(0, signal_len, step)\n",
    "    x_train = x_train.unfold(0, window_len+1, 1)\n",
    "    x_train = x_train.unsqueeze(-1)\n",
    "\n",
    "    y_train = x_train[:,-1,:]\n",
    "    x_train = x_train[:,0:-1,:]\n",
    "\n",
    "    x_train = A*torch.sin(x_train)\n",
    "    y_train = A*torch.sin(y_train)\n",
    "\n",
    "    x_eval = torch.arange(signal_len, signal_len+eval_len*step, step)\n",
    "    x_eval = x_eval.unsqueeze(-1)\n",
    "    x_eval = x_eval.unsqueeze(0)\n",
    "    eval_signal = A*torch.sin(x_eval)\n",
    "\n",
    "    return (x_train, y_train), eval_signal\n",
    "\n",
    "(train_signal, train_target), eval_signal = generate_data(signal_len=train_signal_len, step=step, window_len=window_len, amplitude=signal_amplitude, eval_len=eval_signal_len)\n",
    "\n",
    "train_signal = train_signal.to(device)\n",
    "train_target = train_target.to(device)\n",
    "eval_signal = eval_signal.to(device)\n",
    "\n",
    "#plt.plot(eval_signal.squeeze(0))"
   ]
  },
  {
   "cell_type": "code",
   "execution_count": 10,
   "metadata": {},
   "outputs": [],
   "source": [
    "# load ssnn model\n",
    "model = SSNN(u_len = 1, x_len = 10, y_len = 1)\n",
    "model = model.to(device)\n",
    "\n",
    "criterion = torch.nn.MSELoss()\n",
    "optimizer = torch.optim.SGD(model.parameters(), lr=0.001)"
   ]
  },
  {
   "cell_type": "code",
   "execution_count": 12,
   "metadata": {},
   "outputs": [
    {
     "data": {
      "application/vnd.jupyter.widget-view+json": {
       "model_id": "8e937f9ca5dd41899b4ae1d079c227c4",
       "version_major": 2,
       "version_minor": 0
      },
      "text/plain": [
       "  0%|          | 0/10 [00:00<?, ?it/s]"
      ]
     },
     "metadata": {},
     "output_type": "display_data"
    }
   ],
   "source": [
    "# train loop\n",
    "t_loss = []\n",
    "t_plot = []\n",
    "t_observability = []\n",
    "\n",
    "n_epochs = 10\n",
    "batch_size = 32\n",
    "\n",
    "for epoch in tqdm(range(n_epochs)):\n",
    "    batch = 0\n",
    "    while batch < int(train_signal.shape[0]/batch_size):\n",
    "        optimizer.zero_grad()\n",
    "        outputs = model(train_signal[batch*batch_size:(batch+1)*batch_size])\n",
    "        outputs = outputs[:, -1, :]\n",
    "        loss = criterion(outputs, train_target[batch*batch_size:(batch+1)*batch_size])\n",
    "        \n",
    "        t_loss.append(loss.item())\n",
    "        with torch.no_grad():\n",
    "            t_observability.append(torch.linalg.det(observability(model.A, model.C)).item())\n",
    "\n",
    "        loss.backward()\n",
    "        optimizer.step()\n",
    "\n",
    "        batch += 1\n",
    "\n",
    "    # last batch\n",
    "    optimizer.zero_grad()\n",
    "    outputs = model(train_signal[batch*batch_size:-1])\n",
    "    outputs = outputs[:, -1, :]\n",
    "    loss = criterion(outputs, train_target[batch*batch_size:-1])\n",
    "\n",
    "    t_loss.append(loss.item())\n",
    "    with torch.no_grad():\n",
    "        t_observability.append(torch.linalg.det(observability(model.A, model.C)).item())\n",
    "\n",
    "    loss.backward()\n",
    "    optimizer.step()\n",
    "\n",
    "    # eval per epoch\n",
    "    y_eval = eval_signal\n",
    "\n",
    "    for t in range(plot_size-eval_signal_len):\n",
    "        with torch.no_grad():\n",
    "            y_eval = torch.cat((y_eval, model(y_eval[:, t:eval_signal_len+t, :])[:,-1,:].unsqueeze(-1)), dim=1)\n",
    "    t_plot.append(y_eval.squeeze())\n",
    "\n",
    "save_gif(\"pure-sine.gif\", \"./results/experiment-1\", plot_size=plot_size, signal_amplitude=signal_amplitude, n_epochs=n_epochs, t_loss=t_loss, t_plot=t_plot, t_observability=t_observability)"
   ]
  },
  {
   "cell_type": "markdown",
   "metadata": {},
   "source": [
    "## 3 sine harmonics"
   ]
  },
  {
   "cell_type": "code",
   "execution_count": 32,
   "metadata": {},
   "outputs": [],
   "source": [
    "# Generate signal, windows it, generate input and output data.\n",
    "from unittest import signals\n",
    "\n",
    "train_signal_len = 400\n",
    "step = 0.5\n",
    "window_len = 40\n",
    "signal_amplitude = 5\n",
    "eval_signal_len = 10\n",
    "plot_size = 100\n",
    "\n",
    "def generate_data(signal_len:int, step:float, window_len:int, **kwargs):\n",
    "    A = kwargs['amp1']\n",
    "    B = kwargs['amp2']\n",
    "    C = kwargs['amp3']\n",
    "    eval_len = kwargs['eval_len']\n",
    "\n",
    "    # generate a sine dataset\n",
    "    x_train = torch.arange(0, signal_len, step)\n",
    "    x_train = x_train.unfold(0, window_len+1, 1)\n",
    "    x_train = x_train.unsqueeze(-1)\n",
    "\n",
    "    y_train = x_train[:,-1,:]\n",
    "    x_train = x_train[:,0:-1,:]\n",
    "\n",
    "    x_train = A*torch.sin(x_train)+B*torch.sin(x_train/3)+C*torch.sin(x_train/5)\n",
    "    y_train = A*torch.sin(y_train)+B*torch.sin(y_train/3)+C*torch.sin(y_train/5)\n",
    "\n",
    "    x_eval = torch.arange(signal_len, signal_len+eval_len*step, step)\n",
    "    x_eval = x_eval.unsqueeze(-1)\n",
    "    x_eval = x_eval.unsqueeze(0)\n",
    "    eval_signal = A*torch.sin(x_eval)+B*torch.sin(x_eval/3)+C*torch.sin(x_eval/5)\n",
    "\n",
    "    return (x_train, y_train), eval_signal\n",
    "\n",
    "(train_signal, train_target), eval_signal = generate_data(signal_len=train_signal_len, step=step, window_len=window_len, amp1=signal_amplitude, amp2=2, amp3=1, eval_len=eval_signal_len)\n",
    "\n",
    "train_signal = train_signal.to(device)\n",
    "train_target = train_target.to(device)\n",
    "eval_signal = eval_signal.to(device)"
   ]
  },
  {
   "cell_type": "code",
   "execution_count": 33,
   "metadata": {},
   "outputs": [],
   "source": [
    "# load ssnn model\n",
    "model = SSNN(u_len = 1, x_len = 10, y_len = 1)\n",
    "model = model.to(device)\n",
    "\n",
    "criterion = torch.nn.MSELoss()\n",
    "optimizer = torch.optim.SGD(model.parameters(), lr=0.001)"
   ]
  },
  {
   "cell_type": "code",
   "execution_count": 34,
   "metadata": {},
   "outputs": [
    {
     "data": {
      "application/vnd.jupyter.widget-view+json": {
       "model_id": "4fb8b163eb5a4452a9eb7d976f3dc988",
       "version_major": 2,
       "version_minor": 0
      },
      "text/plain": [
       "  0%|          | 0/200 [00:00<?, ?it/s]"
      ]
     },
     "metadata": {},
     "output_type": "display_data"
    }
   ],
   "source": [
    "# train loop\n",
    "t_loss = []\n",
    "t_plot = []\n",
    "t_observability = []\n",
    "\n",
    "n_epochs = 200\n",
    "batch_size = 32\n",
    "\n",
    "for epoch in tqdm(range(n_epochs)):\n",
    "    batch = 0\n",
    "    while batch < int(train_signal.shape[0]/batch_size):\n",
    "        optimizer.zero_grad()\n",
    "        outputs = model(train_signal[batch*batch_size:(batch+1)*batch_size])\n",
    "        outputs = outputs[:, -1, :]\n",
    "        loss = criterion(outputs, train_target[batch*batch_size:(batch+1)*batch_size])\n",
    "        \n",
    "        t_loss.append(loss.item())\n",
    "        with torch.no_grad():\n",
    "            t_observability.append(torch.linalg.det(observability(model.A, model.C)).item())\n",
    "\n",
    "        loss.backward()\n",
    "        optimizer.step()\n",
    "# - Loss: MSE\n",
    "# - SGD without momentum\n",
    "\n",
    "        batch += 1\n",
    "\n",
    "    # last batch\n",
    "    optimizer.zero_grad()\n",
    "    outputs = model(train_signal[batch*batch_size:-1])\n",
    "    outputs = outputs[:, -1, :]\n",
    "    loss = criterion(outputs, train_target[batch*batch_size:-1])\n",
    "\n",
    "    t_loss.append(loss.item())\n",
    "    with torch.no_grad():\n",
    "        t_observability.append(torch.linalg.det(observability(model.A, model.C)).item())\n",
    "\n",
    "    loss.backward()\n",
    "    optimizer.step()\n",
    "\n",
    "    # eval per epoch\n",
    "    y_eval = eval_signal\n",
    "\n",
    "    for t in range(plot_size-eval_signal_len):\n",
    "        with torch.no_grad():\n",
    "            y_eval = torch.cat((y_eval, model(y_eval[:, t:eval_signal_len+t, :])[:,-1,:].unsqueeze(-1)), dim=1)\n",
    "    t_plot.append(y_eval.squeeze())\n",
    "\n",
    "save_gif(\"3-harmonics.gif\", \"./results/experiment-1\", plot_size=plot_size, signal_amplitude=signal_amplitude, n_epochs=n_epochs, t_loss=t_loss, t_plot=t_plot, t_observability=t_observability)"
   ]
  },
  {
   "cell_type": "code",
   "execution_count": null,
   "metadata": {},
   "outputs": [],
   "source": []
  }
 ],
 "metadata": {
  "kernelspec": {
   "display_name": "Python 3 (ipykernel)",
   "language": "python",
   "name": "python3"
  },
  "language_info": {
   "codemirror_mode": {
    "name": "ipython",
    "version": 3
   },
   "file_extension": ".py",
   "mimetype": "text/x-python",
   "name": "python",
   "nbconvert_exporter": "python",
   "pygments_lexer": "ipython3",
   "version": "3.10.4"
  },
  "vscode": {
   "interpreter": {
    "hash": "740a2a342df2f5ff59f14d9d60b3ec4df3b4dc667894e83b414b92d9c91b9b59"
   }
  }
 },
 "nbformat": 4,
 "nbformat_minor": 2
}
