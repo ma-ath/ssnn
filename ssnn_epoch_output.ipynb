{
 "cells": [
  {
   "cell_type": "markdown",
   "metadata": {},
   "source": [
    "# Some output experiments on the SSNN"
   ]
  },
  {
   "cell_type": "code",
   "execution_count": 39,
   "metadata": {},
   "outputs": [],
   "source": [
    "import torch\n",
    "import matplotlib.pyplot as plt\n",
    "from matplotlib.animation import FuncAnimation\n",
    "import numpy as np\n",
    "from ssnn import SSNN\n",
    "\n",
    "torch.manual_seed(0)\n",
    "import random\n",
    "random.seed(0)\n",
    "np.random.seed(0)\n",
    "torch.use_deterministic_algorithms(True)"
   ]
  },
  {
   "cell_type": "code",
   "execution_count": 40,
   "metadata": {},
   "outputs": [],
   "source": [
    "amp = 10\n",
    "n_epochs = 20\n",
    "plot_size = 100\n",
    "state_len = 6"
   ]
  },
  {
   "cell_type": "code",
   "execution_count": 41,
   "metadata": {},
   "outputs": [],
   "source": [
    "# Dataset\n",
    "x_train = torch.arange(0, 100, 0.5)\n",
    "x_train = x_train.unfold(0, 20, 1)\n",
    "x_train = x_train.unsqueeze(-1)\n",
    "\n",
    "y_train = x_train[:,-1,:]\n",
    "x_train = x_train[:,0:-1,:]\n",
    "\n",
    "x_train = amp*torch.sin(x_train)\n",
    "y_train = amp*torch.sin(y_train)\n",
    "\n",
    "# function\n",
    "def observability(A:torch.Tensor, C:torch.Tensor):\n",
    "    with torch.no_grad():\n",
    "        O = torch.zeros(A.shape[0], C.shape[1])\n",
    "        for row in range(len(O)):\n",
    "            O[row] = torch.matmul(C, torch.linalg.matrix_power(A, row))\n",
    "    return O"
   ]
  },
  {
   "cell_type": "code",
   "execution_count": 42,
   "metadata": {},
   "outputs": [],
   "source": [
    "# train loop\n",
    "ssnn = SSNN(1, state_len, 1)\n",
    "\n",
    "criterion = torch.nn.MSELoss()\n",
    "optimizer = torch.optim.SGD(ssnn.parameters(), lr=0.001, momentum=0.9)\n",
    "\n",
    "t_loss = []\n",
    "t_observability = []\n",
    "t_plot = []\n",
    "\n",
    "\n",
    "for epoch in range(n_epochs):  # loop over the dataset multiple times\n",
    "    optimizer.zero_grad()\n",
    "\n",
    "    outputs = ssnn(x_train)\n",
    "    outputs = outputs[:, -1, :]\n",
    "    loss = criterion(outputs, y_train)\n",
    "\n",
    "    t_loss.append(loss.item())\n",
    "    with torch.no_grad():\n",
    "        t_observability.append(torch.linalg.det(observability(ssnn.A, ssnn.C)).item())\n",
    "\n",
    "\n",
    "    loss.backward()\n",
    "    optimizer.step()\n",
    "\n",
    "    # eval per epoch\n",
    "    x_eval = torch.arange(100, 110, 0.5)\n",
    "    x_eval = x_eval.unsqueeze(-1)\n",
    "    x_eval = x_eval.unsqueeze(0)\n",
    "    y_eval = amp*torch.sin(x_eval)\n",
    "\n",
    "    for t in range(plot_size-20):\n",
    "        with torch.no_grad():\n",
    "            y_eval = torch.cat((y_eval, ssnn(y_eval[:, t:20+t, :])[:,-1,:].unsqueeze(-1)), dim=1)\n",
    "\n",
    "    t_plot.append(y_eval.squeeze())"
   ]
  },
  {
   "cell_type": "code",
   "execution_count": 46,
   "metadata": {},
   "outputs": [],
   "source": [
    "# show plots\n",
    "def clamp(n, minn, maxn):\n",
    "    return max(min(maxn, n), minn)\n",
    "\n",
    "fig, (ax1, ax2) = plt.subplots(2,1)\n",
    "\n",
    "ax1.set_title(\"Output over time\")\n",
    "ax2.set_title(\"Loss over epoch\")\n",
    "\n",
    "line1, = ax1.plot([])\n",
    "line2, = ax2.plot([])\n",
    "\n",
    "ax1.set_xlim(0, plot_size)\n",
    "ax1.set_ylim(-amp-5, amp+5)\n",
    "\n",
    "ax2.set_xlim(0, n_epochs)\n",
    "ax2.set_ylim(t_loss[0]-0.5, t_loss[0]+0.5)\n",
    "\n",
    "ax1.set_xticks([])\n",
    "\n",
    "t_text1 = ax1.text(.5, -amp-5+0.5, '', fontsize=10)\n",
    "t_text2 = ax2.text(n_epochs/2-5, 0, '', fontsize=10)\n",
    "t_text3 = ax2.text(n_epochs/2+5, 0, '', fontsize=10)\n",
    "\n",
    "def animate(frame_n):\n",
    "    x1 = np.arange(0, plot_size, 1)\n",
    "    y1 = t_plot[frame_n].detach().numpy()\n",
    "    \n",
    "    x2 = np.arange(0, frame_n, 1)\n",
    "    y2 = np.array(t_loss)[0:frame_n]\n",
    "\n",
    "    line1.set_data((x1, y1))\n",
    "    line1.set_color('b')\n",
    "    line2.set_data((x2, y2))\n",
    "    line2.set_color('k')\n",
    "\n",
    "    t_text1.set_text(f\"epoch:{frame_n}\")\n",
    "    t_text2.set_text(f\"loss:{t_loss[frame_n]:.2f}\")\n",
    "    \n",
    "    t_text3.set_text(f\"det(O):{t_observability[frame_n]:.2e}\")\n",
    "\n",
    "    if frame_n != 0:\n",
    "        ax2.set_ylim(   clamp(min(np.array(t_loss)[:frame_n]), 0, 1000)-0.5,\n",
    "                        clamp(max(np.array(t_loss)[:frame_n]), 0, 1000)+0.5)\n",
    "\n",
    "    return line1, line2\n",
    "\n",
    "anim = FuncAnimation(fig, animate, frames=n_epochs, interval=1)\n",
    "anim.save(f\"gifs/amp{amp}:n_epochs{n_epochs}:plot_size{plot_size}:state_len{state_len}.gif\", writer = 'pillow')\n",
    "plt.close()"
   ]
  },
  {
   "cell_type": "code",
   "execution_count": null,
   "metadata": {},
   "outputs": [],
   "source": []
  }
 ],
 "metadata": {
  "kernelspec": {
   "display_name": "Python 3.8.10 ('env': venv)",
   "language": "python",
   "name": "python3"
  },
  "language_info": {
   "codemirror_mode": {
    "name": "ipython",
    "version": 3
   },
   "file_extension": ".py",
   "mimetype": "text/x-python",
   "name": "python",
   "nbconvert_exporter": "python",
   "pygments_lexer": "ipython3",
   "version": "3.8.10"
  },
  "orig_nbformat": 4,
  "vscode": {
   "interpreter": {
    "hash": "bca7a28bfef8824f5322aebd4f09a2f98be2290bfc2bdc4be26be4eea349412f"
   }
  }
 },
 "nbformat": 4,
 "nbformat_minor": 2
}
